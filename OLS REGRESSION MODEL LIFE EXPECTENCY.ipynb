{
 "cells": [
  {
   "cell_type": "code",
   "execution_count": 1,
   "id": "f59d0e97",
   "metadata": {},
   "outputs": [],
   "source": [
    "import pandas as pd\n",
    "import numpy as np\n",
    "import matplotlib.pyplot as plt\n",
    "import seaborn as sns\n",
    "%matplotlib inline\n",
    "import warnings\n",
    "warnings.filterwarnings('ignore')"
   ]
  },
  {
   "cell_type": "code",
   "execution_count": 2,
   "id": "ff755023",
   "metadata": {},
   "outputs": [],
   "source": [
    "file_path = \"C:/Users/lenovo1/Downloads/Regression.Life.Expectancy.csv\"\n",
    "df= pd.read_csv(file_path)"
   ]
  },
  {
   "cell_type": "code",
   "execution_count": 3,
   "id": "2fd4b7da",
   "metadata": {},
   "outputs": [],
   "source": [
    "df.rename(columns={'Life expectancy ':'Life_Expectancy', 'Adult Mortality':'Adult_Mortality','infant deaths':'Infant_Deaths','percentage expenditure':'Percentage_Exp', 'Hepatitis B':'Hepatitis_B', 'Measles ':'Measles', ' BMI ':'BMI',\n",
    "                          'under-five deaths ':'under_five_deaths', 'Total expenditure':'Total_Exp','Diphtheria ':'Diphtheria', ' HIV/AIDS':'HIV/AIDS',\n",
    "                          ' thinness  1-19 years':'thinness_1_to_19', ' thinness 5-9 years':'thinness_5_to_9', 'Income composition of resources':'Income_Composition'}, inplace=True)"
   ]
  },
  {
   "cell_type": "code",
   "execution_count": 4,
   "id": "77bb7d37",
   "metadata": {},
   "outputs": [],
   "source": [
    "df.replace(\" \", np.NaN, inplace = True)"
   ]
  },
  {
   "cell_type": "code",
   "execution_count": 5,
   "id": "9830f14b",
   "metadata": {},
   "outputs": [],
   "source": [
    "from sklearn.experimental import enable_iterative_imputer\n",
    "from sklearn.impute import IterativeImputer\n",
    "import pandas as pd\n",
    "\n",
    "# Identify variables with missing values\n",
    "variables_with_missing = df.columns[df.isnull().any()].tolist()\n",
    "\n",
    "# Determine the order of imputation based on dependencies (you can customize this)\n",
    "imputation_order = [\n",
    "    'Life_Expectancy', 'Adult_Mortality', 'Alcohol', 'Hepatitis_B',\n",
    "    'BMI', 'Polio', 'Total_Exp', 'Diphtheria', 'GDP',\n",
    "    'Population', 'thinness_1_to_19', 'thinness_5_to_9',\n",
    "    'Income_Composition', 'Schooling'\n",
    "]\n",
    "\n",
    "\n",
    "# Split dataset into two parts\n",
    "df_complete = df.drop(columns=variables_with_missing)\n",
    "df_incomplete = df[variables_with_missing]\n",
    "\n",
    "# Apply iterative imputation\n",
    "imputer = IterativeImputer(max_iter=10, random_state=0)\n",
    "df_imputed = pd.DataFrame(imputer.fit_transform(df_incomplete), columns=variables_with_missing)\n",
    "\n",
    "# Combine imputed data with complete data\n",
    "df_complete[variables_with_missing] = df_imputed\n",
    "\n",
    "# Now df_complete contains your dataset with missing values imputed\n"
   ]
  },
  {
   "cell_type": "code",
   "execution_count": 6,
   "id": "39281231",
   "metadata": {},
   "outputs": [],
   "source": [
    "df = df_complete"
   ]
  },
  {
   "cell_type": "code",
   "execution_count": 7,
   "id": "06f54951",
   "metadata": {},
   "outputs": [],
   "source": [
    "df['Status']=df['Status'].map({'Developing':1,'Developed':0}).astype(int)"
   ]
  },
  {
   "cell_type": "code",
   "execution_count": 8,
   "id": "2ad2dad6",
   "metadata": {},
   "outputs": [],
   "source": [
    "df.drop('Country', axis = 1, inplace = True)\n"
   ]
  },
  {
   "cell_type": "code",
   "execution_count": 9,
   "id": "542873a7",
   "metadata": {},
   "outputs": [],
   "source": [
    "df.drop(columns=['under_five_deaths','thinness_5_to_9'],axis =1, inplace=True)"
   ]
  },
  {
   "cell_type": "markdown",
   "id": "cbaef01e",
   "metadata": {},
   "source": [
    "# OLS REGRESSION MODEL"
   ]
  },
  {
   "cell_type": "code",
   "execution_count": 11,
   "id": "587f8240",
   "metadata": {},
   "outputs": [
    {
     "name": "stdout",
     "output_type": "stream",
     "text": [
      "                            OLS Regression Results                            \n",
      "==============================================================================\n",
      "Dep. Variable:        Life_Expectancy   R-squared:                       0.830\n",
      "Model:                            OLS   Adj. R-squared:                  0.829\n",
      "Method:                 Least Squares   F-statistic:                     793.5\n",
      "Date:                Tue, 26 Mar 2024   Prob (F-statistic):               0.00\n",
      "Time:                        23:52:57   Log-Likelihood:                -8182.5\n",
      "No. Observations:                2938   AIC:                         1.640e+04\n",
      "Df Residuals:                    2919   BIC:                         1.652e+04\n",
      "Df Model:                          18                                         \n",
      "Covariance Type:            nonrobust                                         \n",
      "======================================================================================\n",
      "                         coef    std err          t      P>|t|      [0.025      0.975]\n",
      "--------------------------------------------------------------------------------------\n",
      "const                157.8726     33.973      4.647      0.000      91.259     224.486\n",
      "Year                  -0.0523      0.017     -3.076      0.002      -0.086      -0.019\n",
      "Status                -1.0477      0.264     -3.971      0.000      -1.565      -0.530\n",
      "Infant_Deaths         -0.0008      0.001     -0.925      0.355      -0.003       0.001\n",
      "Percentage_Exp     -5.963e-05    7.7e-05     -0.774      0.439      -0.000    9.14e-05\n",
      "Measles            -1.999e-05    7.4e-06     -2.701      0.007   -3.45e-05   -5.48e-06\n",
      "HIV/AIDS              -0.4966      0.017    -28.982      0.000      -0.530      -0.463\n",
      "Adult_Mortality       -0.0174      0.001    -22.088      0.000      -0.019      -0.016\n",
      "Alcohol               -0.0739      0.026     -2.835      0.005      -0.125      -0.023\n",
      "Hepatitis_B           -0.0010      0.004     -0.231      0.817      -0.009       0.007\n",
      "BMI                    0.0323      0.005      6.696      0.000       0.023       0.042\n",
      "Polio                  0.0251      0.004      5.697      0.000       0.016       0.034\n",
      "Total_Exp              0.0544      0.033      1.637      0.102      -0.011       0.120\n",
      "Diphtheria             0.0339      0.005      6.873      0.000       0.024       0.044\n",
      "GDP                 6.551e-05    1.2e-05      5.438      0.000    4.19e-05    8.91e-05\n",
      "Population          2.062e-09   1.63e-09      1.264      0.206   -1.14e-09    5.26e-09\n",
      "thinness_1_to_19      -0.0724      0.023     -3.109      0.002      -0.118      -0.027\n",
      "Income_Composition     7.5960      0.627     12.106      0.000       6.366       8.826\n",
      "Schooling              0.8411      0.043     19.619      0.000       0.757       0.925\n",
      "==============================================================================\n",
      "Omnibus:                      173.975   Durbin-Watson:                   0.665\n",
      "Prob(Omnibus):                  0.000   Jarque-Bera (JB):              732.401\n",
      "Skew:                           0.049   Prob(JB):                    9.14e-160\n",
      "Kurtosis:                       5.444   Cond. No.                     2.59e+10\n",
      "==============================================================================\n",
      "\n",
      "Notes:\n",
      "[1] Standard Errors assume that the covariance matrix of the errors is correctly specified.\n",
      "[2] The condition number is large, 2.59e+10. This might indicate that there are\n",
      "strong multicollinearity or other numerical problems.\n",
      "\n",
      "Mean Absolute Error (MAE): 2.9319062370285502\n",
      "Mean Squared Error (MSE): 15.367708715060571\n",
      "Root Mean Squared Error (RMSE): 3.9201669243873494\n",
      "\n",
      "Average P-value: 0.10183271322581992\n"
     ]
    }
   ],
   "source": [
    "import pandas as pd\n",
    "import statsmodels.api as sm\n",
    "import numpy as np\n",
    "\n",
    "# Assuming df is your dataframe with the necessary columns including 'Life_Expectancy'\n",
    "\n",
    "# Define independent variables (X) and dependent variable (y)\n",
    "X = df.drop(['Life_Expectancy'], axis=1)\n",
    "y = df['Life_Expectancy']\n",
    "\n",
    "# Add constant term to independent variables\n",
    "X = sm.add_constant(X)\n",
    "\n",
    "# Fit OLS regression model\n",
    "model = sm.OLS(y, X)\n",
    "results = model.fit()\n",
    "\n",
    "# Print summary of regression results\n",
    "print(results.summary())\n",
    "\n",
    "# Extract p-values\n",
    "p_values = results.pvalues\n",
    "\n",
    "# Calculate average p-value\n",
    "avg_p_value = np.mean(p_values)\n",
    "\n",
    "# Calculate predicted values\n",
    "y_pred = results.predict(X)\n",
    "\n",
    "# Calculate errors\n",
    "errors = y - y_pred\n",
    "\n",
    "# Calculate Mean Absolute Error (MAE)\n",
    "mae = np.mean(np.abs(errors))\n",
    "\n",
    "# Calculate Mean Squared Error (MSE)\n",
    "mse = np.mean(errors ** 2)\n",
    "\n",
    "# Calculate Root Mean Squared Error (RMSE)\n",
    "rmse = np.sqrt(mse)\n",
    "\n",
    "# Print errors and p-values\n",
    "print(\"\\nMean Absolute Error (MAE):\", mae)\n",
    "print(\"Mean Squared Error (MSE):\", mse)\n",
    "print(\"Root Mean Squared Error (RMSE):\", rmse)\n",
    "print(\"\\nAverage P-value:\", avg_p_value)\n"
   ]
  },
  {
   "cell_type": "code",
   "execution_count": null,
   "id": "e2191107",
   "metadata": {},
   "outputs": [],
   "source": []
  }
 ],
 "metadata": {
  "kernelspec": {
   "display_name": "Python 3 (ipykernel)",
   "language": "python",
   "name": "python3"
  },
  "language_info": {
   "codemirror_mode": {
    "name": "ipython",
    "version": 3
   },
   "file_extension": ".py",
   "mimetype": "text/x-python",
   "name": "python",
   "nbconvert_exporter": "python",
   "pygments_lexer": "ipython3",
   "version": "3.11.4"
  }
 },
 "nbformat": 4,
 "nbformat_minor": 5
}
